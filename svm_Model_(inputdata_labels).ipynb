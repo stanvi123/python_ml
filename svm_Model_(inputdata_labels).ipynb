{
 "cells": [
  {
   "cell_type": "code",
   "execution_count": 2,
   "id": "34d2aacd",
   "metadata": {},
   "outputs": [],
   "source": [
    "import os\n",
    "import shutil\n",
    "\n",
    "path1 = 'images_001/images'\n",
    "path2 = 'images_002/images'\n",
    "path3 = 'images_003/images'\n",
    "path4 = 'images_004/images'\n",
    "path5 = 'images_005/images'\n",
    "path6 = 'images_006/images'\n",
    "path7 = 'images_007/images'\n",
    "path8 = 'images_008/images'\n",
    "path9 = 'images_009/images'\n",
    "path010 = 'images_010/images'\n",
    "path011 = 'images_011/images'\n",
    "path012 = 'images_012/images'\n",
    "dest_path = 'sample_data'\n",
    "for path in [path1, path2, path3, path4, path5,path6 , path7,path8,path9,path010,path011,path012]:\n",
    "    for file_name in os.listdir(path):\n",
    "        src_path = os.path.join(path, file_name)\n",
    "        shutil.move(src_path, dest_path)"
   ]
  },
  {
   "cell_type": "code",
   "execution_count": 3,
   "id": "1aaaacb5",
   "metadata": {},
   "outputs": [],
   "source": [
    "import pandas as pd\n",
    "import numpy as np\n",
    "import cv2\n",
    "\n",
    "df_labels = pd.read_csv('Data_Entry_2017.csv')\n",
    "img = cv2.imread(os.path.join('sample_data', file_name))\n",
    "\n",
    "# Filter the DataFrame to only include the two labels you want to extract\n",
    "label1 = 'Cardiomegaly'\n",
    "label2 = 'Effusion'\n",
    "df_filtered = df_labels[(df_labels['Finding Labels'] == label1) | (df_labels['Finding Labels'] == label2)]\n",
    "\n",
    "# Extract the filenames of the images from the filtered DataFrame\n",
    "image_files = df_filtered['Image Index'].values\n",
    "\n",
    "# Loop through the image files and save the images with the corresponding label to a new directory\n",
    "output_dir = 'Finaldataset/'\n",
    "os.makedirs(output_dir, exist_ok=True)\n",
    "\n",
    "for filename in image_files:\n",
    "    label = df_filtered[df_filtered['Image Index'] == filename]['Finding Labels'].values[0]\n",
    "    output_filename = os.path.join(output_dir, f'{label}_{os.path.basename(filename)}')\n",
    "    cv2.imwrite(output_filename, img)"
   ]
  },
  {
   "cell_type": "code",
   "execution_count": 4,
   "id": "a11c339f",
   "metadata": {},
   "outputs": [
    {
     "data": {
      "text/plain": [
       "(5048, 12)"
      ]
     },
     "execution_count": 4,
     "metadata": {},
     "output_type": "execute_result"
    }
   ],
   "source": [
    "df_filtered.shape"
   ]
  },
  {
   "cell_type": "code",
   "execution_count": 5,
   "id": "88cbdd2e",
   "metadata": {},
   "outputs": [
    {
     "data": {
      "text/plain": [
       "array(['Cardiomegaly', 'Effusion'], dtype=object)"
      ]
     },
     "execution_count": 5,
     "metadata": {},
     "output_type": "execute_result"
    }
   ],
   "source": [
    "df_filtered['Finding Labels'].unique()"
   ]
  },
  {
   "cell_type": "code",
   "execution_count": 6,
   "id": "f8a3f6de",
   "metadata": {},
   "outputs": [
    {
     "data": {
      "text/plain": [
       "Effusion        0.783479\n",
       "Cardiomegaly    0.216521\n",
       "Name: Finding Labels, dtype: float64"
      ]
     },
     "execution_count": 6,
     "metadata": {},
     "output_type": "execute_result"
    }
   ],
   "source": [
    "df_filtered['Finding Labels'].value_counts(normalize=True)"
   ]
  },
  {
   "cell_type": "code",
   "execution_count": 9,
   "id": "1babaa38",
   "metadata": {},
   "outputs": [
    {
     "name": "stderr",
     "output_type": "stream",
     "text": [
      "C:\\Users\\dell\\AppData\\Local\\Temp\\ipykernel_42936\\2308808266.py:1: SettingWithCopyWarning: \n",
      "A value is trying to be set on a copy of a slice from a DataFrame.\n",
      "Try using .loc[row_indexer,col_indexer] = value instead\n",
      "\n",
      "See the caveats in the documentation: https://pandas.pydata.org/pandas-docs/stable/user_guide/indexing.html#returning-a-view-versus-a-copy\n",
      "  df_filtered.loc[:, 'Finding Labels'] = df_filtered['Finding Labels'].replace(['Effusion', 'Cardiomegaly'], [2, 1])\n",
      "C:\\Users\\dell\\AppData\\Local\\Temp\\ipykernel_42936\\2308808266.py:2: SettingWithCopyWarning: \n",
      "A value is trying to be set on a copy of a slice from a DataFrame.\n",
      "Try using .loc[row_indexer,col_indexer] = value instead\n",
      "\n",
      "See the caveats in the documentation: https://pandas.pydata.org/pandas-docs/stable/user_guide/indexing.html#returning-a-view-versus-a-copy\n",
      "  df_filtered.loc[:, 'df_filteredFinding Labels'] = df_filtered['Finding Labels']\n"
     ]
    }
   ],
   "source": [
    "df_filtered.loc[:, 'Finding Labels'] = df_filtered['Finding Labels'].replace(['Effusion', 'Cardiomegaly'], [2, 1])\n",
    "df_filtered.loc[:, 'df_filteredFinding Labels'] = df_filtered['Finding Labels']"
   ]
  },
  {
   "cell_type": "code",
   "execution_count": 6,
   "id": "cac7398b",
   "metadata": {},
   "outputs": [
    {
     "ename": "NameError",
     "evalue": "name 'df_filtered' is not defined",
     "output_type": "error",
     "traceback": [
      "\u001b[1;31m---------------------------------------------------------------------------\u001b[0m",
      "\u001b[1;31mNameError\u001b[0m                                 Traceback (most recent call last)",
      "Input \u001b[1;32mIn [6]\u001b[0m, in \u001b[0;36m<cell line: 1>\u001b[1;34m()\u001b[0m\n\u001b[1;32m----> 1\u001b[0m \u001b[43mdf_filtered\u001b[49m[\u001b[38;5;124m'\u001b[39m\u001b[38;5;124mFinding Labels\u001b[39m\u001b[38;5;124m'\u001b[39m]\u001b[38;5;241m.\u001b[39mvalue_counts(normalize\u001b[38;5;241m=\u001b[39m\u001b[38;5;28;01mTrue\u001b[39;00m)\n",
      "\u001b[1;31mNameError\u001b[0m: name 'df_filtered' is not defined"
     ]
    }
   ],
   "source": [
    "df_filtered['Finding Labels'].value_counts(normalize=True)"
   ]
  },
  {
   "cell_type": "code",
   "execution_count": 4,
   "id": "d8b69ab0",
   "metadata": {},
   "outputs": [],
   "source": [
    "Datadirectory=\"Finaldataset/\""
   ]
  },
  {
   "cell_type": "code",
   "execution_count": 7,
   "id": "0d536762",
   "metadata": {},
   "outputs": [],
   "source": [
    "# TRAINING MODEL BASED ON CNN\n",
    "import tensorflow as tf\n",
    "import cv2 \n",
    "import os\n",
    "import matplotlib.pyplot as plt\n",
    "import numpy as np"
   ]
  },
  {
   "cell_type": "code",
   "execution_count": 8,
   "id": "be225282",
   "metadata": {},
   "outputs": [],
   "source": [
    "classes=[\"1\",\"2\"]"
   ]
  },
  {
   "cell_type": "code",
   "execution_count": 9,
   "id": "41c99395",
   "metadata": {},
   "outputs": [
    {
     "ename": "error",
     "evalue": "OpenCV(4.7.0) D:\\a\\opencv-python\\opencv-python\\opencv\\modules\\imgproc\\src\\color.cpp:182: error: (-215:Assertion failed) !_src.empty() in function 'cv::cvtColor'\n",
     "output_type": "error",
     "traceback": [
      "\u001b[1;31m---------------------------------------------------------------------------\u001b[0m",
      "\u001b[1;31merror\u001b[0m                                     Traceback (most recent call last)",
      "Input \u001b[1;32mIn [9]\u001b[0m, in \u001b[0;36m<cell line: 1>\u001b[1;34m()\u001b[0m\n\u001b[0;32m      3\u001b[0m \u001b[38;5;28;01mfor\u001b[39;00m img \u001b[38;5;129;01min\u001b[39;00m os\u001b[38;5;241m.\u001b[39mlistdir(path):\n\u001b[0;32m      4\u001b[0m     img_array\u001b[38;5;241m=\u001b[39mcv2\u001b[38;5;241m.\u001b[39mimread(os\u001b[38;5;241m.\u001b[39mpath\u001b[38;5;241m.\u001b[39mjoin(path,img))\n\u001b[1;32m----> 5\u001b[0m     plt\u001b[38;5;241m.\u001b[39mimshow(\u001b[43mcv2\u001b[49m\u001b[38;5;241;43m.\u001b[39;49m\u001b[43mcvtColor\u001b[49m\u001b[43m(\u001b[49m\u001b[43mimg_array\u001b[49m\u001b[43m,\u001b[49m\u001b[43mcv2\u001b[49m\u001b[38;5;241;43m.\u001b[39;49m\u001b[43mCOLOR_BGR2RGB\u001b[49m\u001b[43m)\u001b[49m)\n\u001b[0;32m      6\u001b[0m     plt\u001b[38;5;241m.\u001b[39mshow()\n\u001b[0;32m      7\u001b[0m     \u001b[38;5;28;01mbreak\u001b[39;00m\n",
      "\u001b[1;31merror\u001b[0m: OpenCV(4.7.0) D:\\a\\opencv-python\\opencv-python\\opencv\\modules\\imgproc\\src\\color.cpp:182: error: (-215:Assertion failed) !_src.empty() in function 'cv::cvtColor'\n"
     ]
    }
   ],
   "source": [
    "for category in classes :\n",
    "    path =os.path.join(Datadirectory,category)\n",
    "    for img in os.listdir(path):\n",
    "        img_array=cv2.imread(os.path.join(path,img))\n",
    "        plt.imshow(cv2.cvtColor(img_array,cv2.COLOR_BGR2RGB))\n",
    "        plt.show()\n",
    "        break\n",
    "        break"
   ]
  },
  {
   "cell_type": "code",
   "execution_count": 16,
   "id": "cb2e7521",
   "metadata": {},
   "outputs": [],
   "source": [
    "training_Data = []\n",
    "\n",
    "def create_training_Data():\n",
    "    for category in classes:\n",
    "        path = os.path.join(Datadirectory, category)\n",
    "        class_num=classes.index(category)\n",
    "        for img in os.listdir(path):\n",
    "            try:\n",
    "                img_array = cv2.imread(os.path.join(path,img))\n",
    "                new_array=cv2.resize(img_array,(img_size,img_size))\n",
    "                training_Data.append([new_array,class_num])\n",
    "            except Exception as e:\n",
    "                    pass"
   ]
  },
  {
   "cell_type": "code",
   "execution_count": 17,
   "id": "5521d6e4",
   "metadata": {},
   "outputs": [
    {
     "name": "stdout",
     "output_type": "stream",
     "text": [
      "0\n"
     ]
    }
   ],
   "source": [
    "print(len(training_Data))"
   ]
  },
  {
   "cell_type": "code",
   "execution_count": 18,
   "id": "77a7c16d",
   "metadata": {},
   "outputs": [],
   "source": [
    "train_dir = 'training_1/'\n",
    "test_dir = 'testing_1/'"
   ]
  },
  {
   "cell_type": "code",
   "execution_count": 28,
   "id": "a4fef16b",
   "metadata": {},
   "outputs": [],
   "source": [
    "import numpy as np\n",
    "import os\n",
    "import cv2\n",
    "import matplotlib.pyplot as plt\n",
    "from sklearn import svm, metrics\n",
    "from sklearn.model_selection import train_test_split\n",
    "from sklearn.utils import Bunch\n",
    "from skimage.io import imread_collection\n",
    "from skimage.transform import resize\n",
    "from sklearn.svm import SVC\n",
    "import pickle\n",
    "import random"
   ]
  },
  {
   "cell_type": "code",
   "execution_count": 10,
   "id": "7131039f",
   "metadata": {},
   "outputs": [],
   "source": [
    "dir='B:\\\\project_final\\\\Finaldataset'"
   ]
  },
  {
   "cell_type": "code",
   "execution_count": 12,
   "id": "e45c9ed6",
   "metadata": {},
   "outputs": [],
   "source": [
    "categories=['1','2']"
   ]
  },
  {
   "cell_type": "code",
   "execution_count": 19,
   "id": "aaa16b78",
   "metadata": {},
   "outputs": [],
   "source": [
    "data=[]"
   ]
  },
  {
   "cell_type": "code",
   "execution_count": 20,
   "id": "b007c7b6",
   "metadata": {},
   "outputs": [
    {
     "name": "stdout",
     "output_type": "stream",
     "text": [
      "5048\n"
     ]
    }
   ],
   "source": [
    "for category in categories:\n",
    "    path=os.path.join(dir,category)\n",
    "    label=categories.index(category)\n",
    "    \n",
    "    for img in os.listdir(path):\n",
    "        imgpath =os.path.join(path,img)\n",
    "        pet_img=cv2.imread(imgpath,0)\n",
    "        try:\n",
    "            pet_img=cv2.resize(pet_img,(50,50))\n",
    "            image=np.array(pet_img).flatten()\n",
    "        \n",
    "            data.append([image,label])\n",
    "        except Exception as e:\n",
    "            pass\n",
    "        \n",
    "print(len(data))"
   ]
  },
  {
   "cell_type": "code",
   "execution_count": 22,
   "id": "0bb766c1",
   "metadata": {},
   "outputs": [],
   "source": [
    "pick_in=open('data1.picle','wb')\n",
    "pickle.dump(data,pick_in)\n",
    "pick_in.close()"
   ]
  },
  {
   "cell_type": "code",
   "execution_count": 23,
   "id": "2334fad0",
   "metadata": {},
   "outputs": [],
   "source": [
    "pick_in=open('data1.picle','rb')\n",
    "data=pickle.load(pick_in)\n",
    "pick_in.close()"
   ]
  },
  {
   "cell_type": "code",
   "execution_count": 26,
   "id": "c5d1568b",
   "metadata": {},
   "outputs": [],
   "source": [
    "random.shuffle(data)\n",
    "features=[]\n",
    "labels=[]\n",
    "\n",
    "for feature,label in data:\n",
    "    features.append(feature)\n",
    "    labels.append(label)"
   ]
  },
  {
   "cell_type": "code",
   "execution_count": 32,
   "id": "28eb701e",
   "metadata": {},
   "outputs": [],
   "source": [
    "xtrain, xtest, ytrain, ytest = train_test_split(features,labels,test_size=0.25)\n",
    "\n",
    "\n",
    "model=SVC(C=1,kernel='poly',gamma='auto')\n",
    "model.fit(xtrain,ytrain)\n",
    "\n",
    "pick=open('model.sav','wb')\n",
    "pickle.dump(model,pick)\n",
    "pick.close()\n",
    "\n",
    "# prediction=model.predict(xtest)\n",
    "# accuracy = mdel.score(xtest,ytest)\n",
    "# categories=['1','2']\n",
    "# print('accuracy:',accuracy)\n",
    "# print('prediction is: ',categories[prediction[0]])\n",
    "\n",
    "# mypet=xtest[0].reshape(50,50)\n",
    "# plt.imshow(mypet,cmap='gray')\n",
    "# plt.show()"
   ]
  },
  {
   "cell_type": "code",
   "execution_count": 37,
   "id": "38b3cd05",
   "metadata": {},
   "outputs": [
    {
     "name": "stdout",
     "output_type": "stream",
     "text": [
      "accuracy: 0.7939778129952456\n",
      "prediction is:  2\n"
     ]
    },
    {
     "data": {
      "image/png": "[encoded data removed]",
      "text/plain": [
       "<Figure size 432x288 with 1 Axes>"
      ]
     },
     "metadata": {
      "needs_background": "light"
     },
     "output_type": "display_data"
    }
   ],
   "source": [
    "pick=open('model.sav','rb')\n",
    "model=pickle.load(pick)\n",
    "pick.close()\n",
    "\n",
    "prediction=model.predict(xtest)\n",
    "accuracy = model.score(xtest,ytest)\n",
    "\n",
    "categories=['1','2']\n",
    "print('accuracy:',accuracy)\n",
    "print('prediction is: ',categories[prediction[0]])\n",
    "\n",
    "mypet=xtest[0].reshape(50,50)\n",
    "plt.imshow(mypet,cmap='gray')\n",
    "plt.show()"
   ]
  },
  {
   "cell_type": "code",
   "execution_count": null,
   "id": "aaab78fa",
   "metadata": {},
   "outputs": [],
   "source": []
  },
  {
   "cell_type": "code",
   "execution_count": null,
   "id": "7e96bd4d",
   "metadata": {},
   "outputs": [],
   "source": []
  },
  {
   "cell_type": "code",
   "execution_count": null,
   "id": "20de9a65",
   "metadata": {},
   "outputs": [],
   "source": []
  },
  {
   "cell_type": "code",
   "execution_count": null,
   "id": "8d3a14bc",
   "metadata": {},
   "outputs": [],
   "source": []
  },
  {
   "cell_type": "code",
   "execution_count": null,
   "id": "c6213b2c",
   "metadata": {},
   "outputs": [],
   "source": []
  },
  {
   "cell_type": "code",
   "execution_count": null,
   "id": "d9435bee",
   "metadata": {},
   "outputs": [],
   "source": []
  },
  {
   "cell_type": "code",
   "execution_count": null,
   "id": "7f726fa2",
   "metadata": {},
   "outputs": [],
   "source": []
  },
  {
   "cell_type": "code",
   "execution_count": null,
   "id": "591f1285",
   "metadata": {},
   "outputs": [],
   "source": []
  },
  {
   "cell_type": "code",
   "execution_count": 2,
   "id": "788c3230",
   "metadata": {},
   "outputs": [],
   "source": [
    "# set up paths to the image folders\n",
    "cardiomegaly_path = \"Finaldataset/1/*.jpg\"\n",
    "effusion_path = \"finaldataset/2/*.jpg\""
   ]
  },
  {
   "cell_type": "code",
   "execution_count": 3,
   "id": "80cb56b0",
   "metadata": {},
   "outputs": [],
   "source": [
    "# read images from folders and resize them to 256x256\n",
    "cardiomegaly = imread_collection(cardiomegaly_path)\n",
    "effusion = imread_collection(effusion_path)"
   ]
  },
  {
   "cell_type": "code",
   "execution_count": 4,
   "id": "3a8407da",
   "metadata": {},
   "outputs": [],
   "source": [
    "cardiomegaly_resized = [resize(img, (256, 256)) for img in cardiomegaly]\n",
    "effusion_resized = [resize(img, (256, 256)) for img in effusion]"
   ]
  },
  {
   "cell_type": "code",
   "execution_count": 5,
   "id": "962ca32a",
   "metadata": {},
   "outputs": [],
   "source": [
    "# create data and label arrays\n",
    "data = np.concatenate([cardiomegaly_resized, effusion_resized])\n",
    "labels = np.concatenate([np.zeros(len(cardiomegaly_resized)), np.ones(len(effusion_resized))])\n"
   ]
  },
  {
   "cell_type": "code",
   "execution_count": 6,
   "id": "51d053f0",
   "metadata": {},
   "outputs": [],
   "source": [
    "# create data and label arrays\n",
    "data = np.concatenate([cardiomegaly_resized, effusion_resized])\n",
    "labels = np.concatenate([np.zeros(len(cardiomegaly_resized)), np.ones(len(effusion_resized))])\n",
    "\n"
   ]
  },
  {
   "cell_type": "code",
   "execution_count": 8,
   "id": "42f7de6a",
   "metadata": {},
   "outputs": [
    {
     "ename": "NameError",
     "evalue": "name 'X' is not defined",
     "output_type": "error",
     "traceback": [
      "\u001b[1;31m---------------------------------------------------------------------------\u001b[0m",
      "\u001b[1;31mNameError\u001b[0m                                 Traceback (most recent call last)",
      "Input \u001b[1;32mIn [8]\u001b[0m, in \u001b[0;36m<cell line: 4>\u001b[1;34m()\u001b[0m\n\u001b[0;32m      1\u001b[0m \u001b[38;5;28;01mfrom\u001b[39;00m \u001b[38;5;21;01msklearn\u001b[39;00m\u001b[38;5;21;01m.\u001b[39;00m\u001b[38;5;21;01mmodel_selection\u001b[39;00m \u001b[38;5;28;01mimport\u001b[39;00m train_test_split\n\u001b[0;32m      3\u001b[0m \u001b[38;5;66;03m# Assuming that X contains the input data and y contains the target labels\u001b[39;00m\n\u001b[1;32m----> 4\u001b[0m X_train, X_test, y_train, y_test \u001b[38;5;241m=\u001b[39m train_test_split(\u001b[43mX\u001b[49m, y, test_size\u001b[38;5;241m=\u001b[39m\u001b[38;5;241m0.2\u001b[39m, random_state\u001b[38;5;241m=\u001b[39m\u001b[38;5;241m42\u001b[39m)\n",
      "\u001b[1;31mNameError\u001b[0m: name 'X' is not defined"
     ]
    }
   ],
   "source": [
    "from sklearn.model_selection import train_test_split\n",
    "\n",
    "# Assuming that X contains the input data and y contains the target labels\n",
    "X_train, X_test, y_train, y_test = train_test_split(X, y, test_size=0.2, random_state=42)\n"
   ]
  },
  {
   "cell_type": "code",
   "execution_count": null,
   "id": "bcc11534",
   "metadata": {},
   "outputs": [],
   "source": [
    "\n"
   ]
  },
  {
   "cell_type": "code",
   "execution_count": null,
   "id": "8ee15b35",
   "metadata": {},
   "outputs": [],
   "source": []
  }
 ],
 "metadata": {
  "kernelspec": {
   "display_name": "Python 3 (ipykernel)",
   "language": "python",
   "name": "python3"
  },
  "language_info": {
   "codemirror_mode": {
    "name": "ipython",
    "version": 3
   },
   "file_extension": ".py",
   "mimetype": "text/x-python",
   "name": "python",
   "nbconvert_exporter": "python",
   "pygments_lexer": "ipython3",
   "version": "3.9.12"
  }
 },
 "nbformat": 4,
 "nbformat_minor": 5
}
