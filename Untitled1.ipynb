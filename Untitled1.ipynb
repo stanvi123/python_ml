{
 "cells": [
  {
   "cell_type": "code",
   "execution_count": 1,
   "id": "975c6c31",
   "metadata": {},
   "outputs": [],
   "source": [
    "import pandas as pd\n",
    "import scipy as sc\n",
    "import sklearn as sk\n",
    "import seaborn as sns\n",
    "import tensorflow as tf\n",
    "import cv2 \n",
    "import os\n",
    "import matplotlib.pyplot as plt\n",
    "import numpy as np"
   ]
  },
  {
   "cell_type": "code",
   "execution_count": 23,
   "id": "6e12e427",
   "metadata": {},
   "outputs": [],
   "source": [
    "df = pd.read_csv('emphisyma only sheet.csv')"
   ]
  },
  {
   "cell_type": "code",
   "execution_count": 24,
   "id": "74b52a05",
   "metadata": {},
   "outputs": [
    {
     "data": {
      "text/html": [
       "<div>\n",
       "<style scoped>\n",
       "    .dataframe tbody tr th:only-of-type {\n",
       "        vertical-align: middle;\n",
       "    }\n",
       "\n",
       "    .dataframe tbody tr th {\n",
       "        vertical-align: top;\n",
       "    }\n",
       "\n",
       "    .dataframe thead th {\n",
       "        text-align: right;\n",
       "    }\n",
       "</style>\n",
       "<table border=\"1\" class=\"dataframe\">\n",
       "  <thead>\n",
       "    <tr style=\"text-align: right;\">\n",
       "      <th></th>\n",
       "      <th>Image Index</th>\n",
       "      <th>Finding Labels</th>\n",
       "      <th>Follow-up #</th>\n",
       "      <th>Patient ID</th>\n",
       "      <th>Patient Age</th>\n",
       "      <th>Patient Gender</th>\n",
       "      <th>View Position</th>\n",
       "      <th>OriginalImage[Width</th>\n",
       "      <th>Height]</th>\n",
       "      <th>OriginalImagePixelSpacing[x</th>\n",
       "      <th>y]</th>\n",
       "    </tr>\n",
       "  </thead>\n",
       "  <tbody>\n",
       "    <tr>\n",
       "      <th>0</th>\n",
       "      <td>00000009_000.png</td>\n",
       "      <td>Emphysema</td>\n",
       "      <td>0</td>\n",
       "      <td>9</td>\n",
       "      <td>73</td>\n",
       "      <td>M</td>\n",
       "      <td>PA</td>\n",
       "      <td>2992</td>\n",
       "      <td>2991</td>\n",
       "      <td>0.143</td>\n",
       "      <td>0.143</td>\n",
       "    </tr>\n",
       "    <tr>\n",
       "      <th>1</th>\n",
       "      <td>00000013_041.png</td>\n",
       "      <td>Emphysema</td>\n",
       "      <td>41</td>\n",
       "      <td>13</td>\n",
       "      <td>56</td>\n",
       "      <td>M</td>\n",
       "      <td>PA</td>\n",
       "      <td>2992</td>\n",
       "      <td>2991</td>\n",
       "      <td>0.143</td>\n",
       "      <td>0.143</td>\n",
       "    </tr>\n",
       "    <tr>\n",
       "      <th>2</th>\n",
       "      <td>00000013_042.png</td>\n",
       "      <td>Emphysema</td>\n",
       "      <td>42</td>\n",
       "      <td>13</td>\n",
       "      <td>56</td>\n",
       "      <td>M</td>\n",
       "      <td>PA</td>\n",
       "      <td>2696</td>\n",
       "      <td>2812</td>\n",
       "      <td>0.143</td>\n",
       "      <td>0.143</td>\n",
       "    </tr>\n",
       "    <tr>\n",
       "      <th>3</th>\n",
       "      <td>00000027_000.png</td>\n",
       "      <td>Emphysema</td>\n",
       "      <td>0</td>\n",
       "      <td>27</td>\n",
       "      <td>73</td>\n",
       "      <td>M</td>\n",
       "      <td>PA</td>\n",
       "      <td>2990</td>\n",
       "      <td>2991</td>\n",
       "      <td>0.143</td>\n",
       "      <td>0.143</td>\n",
       "    </tr>\n",
       "    <tr>\n",
       "      <th>4</th>\n",
       "      <td>00000034_000.png</td>\n",
       "      <td>Emphysema</td>\n",
       "      <td>0</td>\n",
       "      <td>34</td>\n",
       "      <td>74</td>\n",
       "      <td>M</td>\n",
       "      <td>PA</td>\n",
       "      <td>2048</td>\n",
       "      <td>2500</td>\n",
       "      <td>0.171</td>\n",
       "      <td>0.171</td>\n",
       "    </tr>\n",
       "  </tbody>\n",
       "</table>\n",
       "</div>"
      ],
      "text/plain": [
       "        Image Index Finding Labels  Follow-up #  Patient ID  Patient Age  \\\n",
       "0  00000009_000.png      Emphysema            0           9           73   \n",
       "1  00000013_041.png      Emphysema           41          13           56   \n",
       "2  00000013_042.png      Emphysema           42          13           56   \n",
       "3  00000027_000.png      Emphysema            0          27           73   \n",
       "4  00000034_000.png      Emphysema            0          34           74   \n",
       "\n",
       "  Patient Gender View Position  OriginalImage[Width  Height]  \\\n",
       "0              M            PA                 2992     2991   \n",
       "1              M            PA                 2992     2991   \n",
       "2              M            PA                 2696     2812   \n",
       "3              M            PA                 2990     2991   \n",
       "4              M            PA                 2048     2500   \n",
       "\n",
       "   OriginalImagePixelSpacing[x    y]  \n",
       "0                        0.143 0.143  \n",
       "1                        0.143 0.143  \n",
       "2                        0.143 0.143  \n",
       "3                        0.143 0.143  \n",
       "4                        0.171 0.171  "
      ]
     },
     "execution_count": 24,
     "metadata": {},
     "output_type": "execute_result"
    }
   ],
   "source": [
    "df.head()"
   ]
  },
  {
   "cell_type": "code",
   "execution_count": 25,
   "id": "c91ab921",
   "metadata": {},
   "outputs": [
    {
     "data": {
      "text/plain": [
       "(2243, 11)"
      ]
     },
     "execution_count": 25,
     "metadata": {},
     "output_type": "execute_result"
    }
   ],
   "source": [
    "df.shape"
   ]
  },
  {
   "cell_type": "code",
   "execution_count": 26,
   "id": "4acf50b5",
   "metadata": {},
   "outputs": [
    {
     "name": "stdout",
     "output_type": "stream",
     "text": [
      "<class 'pandas.core.frame.DataFrame'>\n",
      "RangeIndex: 2243 entries, 0 to 2242\n",
      "Data columns (total 11 columns):\n",
      " #   Column                       Non-Null Count  Dtype  \n",
      "---  ------                       --------------  -----  \n",
      " 0   Image Index                  2243 non-null   object \n",
      " 1   Finding Labels               2243 non-null   object \n",
      " 2   Follow-up #                  2243 non-null   int64  \n",
      " 3   Patient ID                   2243 non-null   int64  \n",
      " 4   Patient Age                  2243 non-null   int64  \n",
      " 5   Patient Gender               2243 non-null   object \n",
      " 6   View Position                2243 non-null   object \n",
      " 7   OriginalImage[Width          2243 non-null   int64  \n",
      " 8   Height]                      2243 non-null   int64  \n",
      " 9   OriginalImagePixelSpacing[x  2243 non-null   float64\n",
      " 10  y]                           2243 non-null   float64\n",
      "dtypes: float64(2), int64(5), object(4)\n",
      "memory usage: 192.9+ KB\n"
     ]
    }
   ],
   "source": [
    "df.info()"
   ]
  },
  {
   "cell_type": "code",
   "execution_count": 27,
   "id": "a9312f93",
   "metadata": {},
   "outputs": [
    {
     "data": {
      "text/html": [
       "<div>\n",
       "<style scoped>\n",
       "    .dataframe tbody tr th:only-of-type {\n",
       "        vertical-align: middle;\n",
       "    }\n",
       "\n",
       "    .dataframe tbody tr th {\n",
       "        vertical-align: top;\n",
       "    }\n",
       "\n",
       "    .dataframe thead th {\n",
       "        text-align: right;\n",
       "    }\n",
       "</style>\n",
       "<table border=\"1\" class=\"dataframe\">\n",
       "  <thead>\n",
       "    <tr style=\"text-align: right;\">\n",
       "      <th></th>\n",
       "      <th>count</th>\n",
       "      <th>mean</th>\n",
       "      <th>std</th>\n",
       "      <th>min</th>\n",
       "      <th>25%</th>\n",
       "      <th>50%</th>\n",
       "      <th>75%</th>\n",
       "      <th>max</th>\n",
       "    </tr>\n",
       "  </thead>\n",
       "  <tbody>\n",
       "    <tr>\n",
       "      <th>Follow-up #</th>\n",
       "      <td>2243.000</td>\n",
       "      <td>11.507</td>\n",
       "      <td>17.197</td>\n",
       "      <td>0.000</td>\n",
       "      <td>1.000</td>\n",
       "      <td>5.000</td>\n",
       "      <td>14.000</td>\n",
       "      <td>152.000</td>\n",
       "    </tr>\n",
       "    <tr>\n",
       "      <th>Patient ID</th>\n",
       "      <td>2243.000</td>\n",
       "      <td>14576.854</td>\n",
       "      <td>9896.760</td>\n",
       "      <td>9.000</td>\n",
       "      <td>5649.500</td>\n",
       "      <td>14543.000</td>\n",
       "      <td>21852.500</td>\n",
       "      <td>30753.000</td>\n",
       "    </tr>\n",
       "    <tr>\n",
       "      <th>Patient Age</th>\n",
       "      <td>2243.000</td>\n",
       "      <td>50.348</td>\n",
       "      <td>17.436</td>\n",
       "      <td>6.000</td>\n",
       "      <td>38.000</td>\n",
       "      <td>53.000</td>\n",
       "      <td>64.000</td>\n",
       "      <td>92.000</td>\n",
       "    </tr>\n",
       "    <tr>\n",
       "      <th>OriginalImage[Width</th>\n",
       "      <td>2243.000</td>\n",
       "      <td>2622.382</td>\n",
       "      <td>364.239</td>\n",
       "      <td>1559.000</td>\n",
       "      <td>2500.000</td>\n",
       "      <td>2500.000</td>\n",
       "      <td>2992.000</td>\n",
       "      <td>3056.000</td>\n",
       "    </tr>\n",
       "    <tr>\n",
       "      <th>Height]</th>\n",
       "      <td>2243.000</td>\n",
       "      <td>2434.835</td>\n",
       "      <td>390.232</td>\n",
       "      <td>1714.000</td>\n",
       "      <td>2048.000</td>\n",
       "      <td>2500.000</td>\n",
       "      <td>2849.000</td>\n",
       "      <td>3056.000</td>\n",
       "    </tr>\n",
       "    <tr>\n",
       "      <th>OriginalImagePixelSpacing[x</th>\n",
       "      <td>2243.000</td>\n",
       "      <td>0.158</td>\n",
       "      <td>0.018</td>\n",
       "      <td>0.139</td>\n",
       "      <td>0.143</td>\n",
       "      <td>0.143</td>\n",
       "      <td>0.168</td>\n",
       "      <td>0.199</td>\n",
       "    </tr>\n",
       "    <tr>\n",
       "      <th>y]</th>\n",
       "      <td>2243.000</td>\n",
       "      <td>0.158</td>\n",
       "      <td>0.018</td>\n",
       "      <td>0.139</td>\n",
       "      <td>0.143</td>\n",
       "      <td>0.143</td>\n",
       "      <td>0.168</td>\n",
       "      <td>0.199</td>\n",
       "    </tr>\n",
       "  </tbody>\n",
       "</table>\n",
       "</div>"
      ],
      "text/plain": [
       "                               count      mean      std      min      25%  \\\n",
       "Follow-up #                 2243.000    11.507   17.197    0.000    1.000   \n",
       "Patient ID                  2243.000 14576.854 9896.760    9.000 5649.500   \n",
       "Patient Age                 2243.000    50.348   17.436    6.000   38.000   \n",
       "OriginalImage[Width         2243.000  2622.382  364.239 1559.000 2500.000   \n",
       "Height]                     2243.000  2434.835  390.232 1714.000 2048.000   \n",
       "OriginalImagePixelSpacing[x 2243.000     0.158    0.018    0.139    0.143   \n",
       "y]                          2243.000     0.158    0.018    0.139    0.143   \n",
       "\n",
       "                                  50%       75%       max  \n",
       "Follow-up #                     5.000    14.000   152.000  \n",
       "Patient ID                  14543.000 21852.500 30753.000  \n",
       "Patient Age                    53.000    64.000    92.000  \n",
       "OriginalImage[Width          2500.000  2992.000  3056.000  \n",
       "Height]                      2500.000  2849.000  3056.000  \n",
       "OriginalImagePixelSpacing[x     0.143     0.168     0.199  \n",
       "y]                              0.143     0.168     0.199  "
      ]
     },
     "execution_count": 27,
     "metadata": {},
     "output_type": "execute_result"
    }
   ],
   "source": [
    "pd.set_option('display.float_format',lambda x: '%.3f'%x)\n",
    "df.describe().transpose()\n"
   ]
  },
  {
   "cell_type": "code",
   "execution_count": 28,
   "id": "bef78dce",
   "metadata": {},
   "outputs": [
    {
     "data": {
      "text/html": [
       "<div>\n",
       "<style scoped>\n",
       "    .dataframe tbody tr th:only-of-type {\n",
       "        vertical-align: middle;\n",
       "    }\n",
       "\n",
       "    .dataframe tbody tr th {\n",
       "        vertical-align: top;\n",
       "    }\n",
       "\n",
       "    .dataframe thead th {\n",
       "        text-align: right;\n",
       "    }\n",
       "</style>\n",
       "<table border=\"1\" class=\"dataframe\">\n",
       "  <thead>\n",
       "    <tr style=\"text-align: right;\">\n",
       "      <th></th>\n",
       "      <th>Image Index</th>\n",
       "      <th>Finding Labels</th>\n",
       "      <th>Follow-up #</th>\n",
       "      <th>Patient ID</th>\n",
       "      <th>Patient Age</th>\n",
       "      <th>Patient Gender</th>\n",
       "      <th>View Position</th>\n",
       "      <th>OriginalImage[Width</th>\n",
       "      <th>Height]</th>\n",
       "      <th>OriginalImagePixelSpacing[x</th>\n",
       "      <th>y]</th>\n",
       "    </tr>\n",
       "  </thead>\n",
       "  <tbody>\n",
       "    <tr>\n",
       "      <th>0</th>\n",
       "      <td>False</td>\n",
       "      <td>False</td>\n",
       "      <td>False</td>\n",
       "      <td>False</td>\n",
       "      <td>False</td>\n",
       "      <td>False</td>\n",
       "      <td>False</td>\n",
       "      <td>False</td>\n",
       "      <td>False</td>\n",
       "      <td>False</td>\n",
       "      <td>False</td>\n",
       "    </tr>\n",
       "    <tr>\n",
       "      <th>1</th>\n",
       "      <td>False</td>\n",
       "      <td>False</td>\n",
       "      <td>False</td>\n",
       "      <td>False</td>\n",
       "      <td>False</td>\n",
       "      <td>False</td>\n",
       "      <td>False</td>\n",
       "      <td>False</td>\n",
       "      <td>False</td>\n",
       "      <td>False</td>\n",
       "      <td>False</td>\n",
       "    </tr>\n",
       "    <tr>\n",
       "      <th>2</th>\n",
       "      <td>False</td>\n",
       "      <td>False</td>\n",
       "      <td>False</td>\n",
       "      <td>False</td>\n",
       "      <td>False</td>\n",
       "      <td>False</td>\n",
       "      <td>False</td>\n",
       "      <td>False</td>\n",
       "      <td>False</td>\n",
       "      <td>False</td>\n",
       "      <td>False</td>\n",
       "    </tr>\n",
       "    <tr>\n",
       "      <th>3</th>\n",
       "      <td>False</td>\n",
       "      <td>False</td>\n",
       "      <td>False</td>\n",
       "      <td>False</td>\n",
       "      <td>False</td>\n",
       "      <td>False</td>\n",
       "      <td>False</td>\n",
       "      <td>False</td>\n",
       "      <td>False</td>\n",
       "      <td>False</td>\n",
       "      <td>False</td>\n",
       "    </tr>\n",
       "    <tr>\n",
       "      <th>4</th>\n",
       "      <td>False</td>\n",
       "      <td>False</td>\n",
       "      <td>False</td>\n",
       "      <td>False</td>\n",
       "      <td>False</td>\n",
       "      <td>False</td>\n",
       "      <td>False</td>\n",
       "      <td>False</td>\n",
       "      <td>False</td>\n",
       "      <td>False</td>\n",
       "      <td>False</td>\n",
       "    </tr>\n",
       "    <tr>\n",
       "      <th>...</th>\n",
       "      <td>...</td>\n",
       "      <td>...</td>\n",
       "      <td>...</td>\n",
       "      <td>...</td>\n",
       "      <td>...</td>\n",
       "      <td>...</td>\n",
       "      <td>...</td>\n",
       "      <td>...</td>\n",
       "      <td>...</td>\n",
       "      <td>...</td>\n",
       "      <td>...</td>\n",
       "    </tr>\n",
       "    <tr>\n",
       "      <th>2238</th>\n",
       "      <td>False</td>\n",
       "      <td>False</td>\n",
       "      <td>False</td>\n",
       "      <td>False</td>\n",
       "      <td>False</td>\n",
       "      <td>False</td>\n",
       "      <td>False</td>\n",
       "      <td>False</td>\n",
       "      <td>False</td>\n",
       "      <td>False</td>\n",
       "      <td>False</td>\n",
       "    </tr>\n",
       "    <tr>\n",
       "      <th>2239</th>\n",
       "      <td>False</td>\n",
       "      <td>False</td>\n",
       "      <td>False</td>\n",
       "      <td>False</td>\n",
       "      <td>False</td>\n",
       "      <td>False</td>\n",
       "      <td>False</td>\n",
       "      <td>False</td>\n",
       "      <td>False</td>\n",
       "      <td>False</td>\n",
       "      <td>False</td>\n",
       "    </tr>\n",
       "    <tr>\n",
       "      <th>2240</th>\n",
       "      <td>False</td>\n",
       "      <td>False</td>\n",
       "      <td>False</td>\n",
       "      <td>False</td>\n",
       "      <td>False</td>\n",
       "      <td>False</td>\n",
       "      <td>False</td>\n",
       "      <td>False</td>\n",
       "      <td>False</td>\n",
       "      <td>False</td>\n",
       "      <td>False</td>\n",
       "    </tr>\n",
       "    <tr>\n",
       "      <th>2241</th>\n",
       "      <td>False</td>\n",
       "      <td>False</td>\n",
       "      <td>False</td>\n",
       "      <td>False</td>\n",
       "      <td>False</td>\n",
       "      <td>False</td>\n",
       "      <td>False</td>\n",
       "      <td>False</td>\n",
       "      <td>False</td>\n",
       "      <td>False</td>\n",
       "      <td>False</td>\n",
       "    </tr>\n",
       "    <tr>\n",
       "      <th>2242</th>\n",
       "      <td>False</td>\n",
       "      <td>False</td>\n",
       "      <td>False</td>\n",
       "      <td>False</td>\n",
       "      <td>False</td>\n",
       "      <td>False</td>\n",
       "      <td>False</td>\n",
       "      <td>False</td>\n",
       "      <td>False</td>\n",
       "      <td>False</td>\n",
       "      <td>False</td>\n",
       "    </tr>\n",
       "  </tbody>\n",
       "</table>\n",
       "<p>2243 rows × 11 columns</p>\n",
       "</div>"
      ],
      "text/plain": [
       "      Image Index  Finding Labels  Follow-up #  Patient ID  Patient Age  \\\n",
       "0           False           False        False       False        False   \n",
       "1           False           False        False       False        False   \n",
       "2           False           False        False       False        False   \n",
       "3           False           False        False       False        False   \n",
       "4           False           False        False       False        False   \n",
       "...           ...             ...          ...         ...          ...   \n",
       "2238        False           False        False       False        False   \n",
       "2239        False           False        False       False        False   \n",
       "2240        False           False        False       False        False   \n",
       "2241        False           False        False       False        False   \n",
       "2242        False           False        False       False        False   \n",
       "\n",
       "      Patient Gender  View Position  OriginalImage[Width  Height]  \\\n",
       "0              False          False                False    False   \n",
       "1              False          False                False    False   \n",
       "2              False          False                False    False   \n",
       "3              False          False                False    False   \n",
       "4              False          False                False    False   \n",
       "...              ...            ...                  ...      ...   \n",
       "2238           False          False                False    False   \n",
       "2239           False          False                False    False   \n",
       "2240           False          False                False    False   \n",
       "2241           False          False                False    False   \n",
       "2242           False          False                False    False   \n",
       "\n",
       "      OriginalImagePixelSpacing[x     y]  \n",
       "0                           False  False  \n",
       "1                           False  False  \n",
       "2                           False  False  \n",
       "3                           False  False  \n",
       "4                           False  False  \n",
       "...                           ...    ...  \n",
       "2238                        False  False  \n",
       "2239                        False  False  \n",
       "2240                        False  False  \n",
       "2241                        False  False  \n",
       "2242                        False  False  \n",
       "\n",
       "[2243 rows x 11 columns]"
      ]
     },
     "execution_count": 28,
     "metadata": {},
     "output_type": "execute_result"
    }
   ],
   "source": [
    "df.isnull()"
   ]
  },
  {
   "cell_type": "code",
   "execution_count": 29,
   "id": "e5c7e49d",
   "metadata": {},
   "outputs": [
    {
     "data": {
      "text/plain": [
       "Image Index                    0\n",
       "Finding Labels                 0\n",
       "Follow-up #                    0\n",
       "Patient ID                     0\n",
       "Patient Age                    0\n",
       "Patient Gender                 0\n",
       "View Position                  0\n",
       "OriginalImage[Width            0\n",
       "Height]                        0\n",
       "OriginalImagePixelSpacing[x    0\n",
       "y]                             0\n",
       "dtype: int64"
      ]
     },
     "execution_count": 29,
     "metadata": {},
     "output_type": "execute_result"
    }
   ],
   "source": [
    "df.isnull().sum()"
   ]
  },
  {
   "cell_type": "code",
   "execution_count": 14,
   "id": "1a1c5652",
   "metadata": {},
   "outputs": [
    {
     "name": "stdout",
     "output_type": "stream",
     "text": [
      "Collecting missingno\n",
      "  Downloading missingno-0.5.2-py3-none-any.whl (8.7 kB)\n",
      "Requirement already satisfied: seaborn in c:\\users\\dell\\anaconda3\\lib\\site-packages (from missingno) (0.11.2)\n",
      "Requirement already satisfied: matplotlib in c:\\users\\dell\\anaconda3\\lib\\site-packages (from missingno) (3.5.1)\n",
      "Requirement already satisfied: scipy in c:\\users\\dell\\anaconda3\\lib\\site-packages (from missingno) (1.7.3)\n",
      "Requirement already satisfied: numpy in c:\\users\\dell\\anaconda3\\lib\\site-packages (from missingno) (1.21.5)\n",
      "Requirement already satisfied: packaging>=20.0 in c:\\users\\dell\\anaconda3\\lib\\site-packages (from matplotlib->missingno) (21.3)\n",
      "Requirement already satisfied: fonttools>=4.22.0 in c:\\users\\dell\\anaconda3\\lib\\site-packages (from matplotlib->missingno) (4.25.0)\n",
      "Requirement already satisfied: kiwisolver>=1.0.1 in c:\\users\\dell\\anaconda3\\lib\\site-packages (from matplotlib->missingno) (1.3.2)\n",
      "Requirement already satisfied: pillow>=6.2.0 in c:\\users\\dell\\anaconda3\\lib\\site-packages (from matplotlib->missingno) (9.0.1)\n",
      "Requirement already satisfied: pyparsing>=2.2.1 in c:\\users\\dell\\anaconda3\\lib\\site-packages (from matplotlib->missingno) (3.0.4)\n",
      "Requirement already satisfied: cycler>=0.10 in c:\\users\\dell\\anaconda3\\lib\\site-packages (from matplotlib->missingno) (0.11.0)\n",
      "Requirement already satisfied: python-dateutil>=2.7 in c:\\users\\dell\\anaconda3\\lib\\site-packages (from matplotlib->missingno) (2.8.2)\n",
      "Requirement already satisfied: pandas>=0.23 in c:\\users\\dell\\anaconda3\\lib\\site-packages (from seaborn->missingno) (1.4.2)\n",
      "Requirement already satisfied: pytz>=2020.1 in c:\\users\\dell\\anaconda3\\lib\\site-packages (from pandas>=0.23->seaborn->missingno) (2021.3)\n",
      "Requirement already satisfied: six>=1.5 in c:\\users\\dell\\anaconda3\\lib\\site-packages (from python-dateutil>=2.7->matplotlib->missingno) (1.16.0)\n",
      "Installing collected packages: missingno\n",
      "Successfully installed missingno-0.5.2\n",
      "Note: you may need to restart the kernel to use updated packages.\n"
     ]
    }
   ],
   "source": [
    "pip install missingno"
   ]
  },
  {
   "cell_type": "code",
   "execution_count": 30,
   "id": "e53f8772",
   "metadata": {},
   "outputs": [],
   "source": [
    "import missingno as msno"
   ]
  },
  {
   "cell_type": "code",
   "execution_count": 31,
   "id": "8608df34",
   "metadata": {},
   "outputs": [
    {
     "data": {
      "image/png": "[encoded data removed]",
      "text/plain": [
       "<Figure size 1800x720 with 3 Axes>"
      ]
     },
     "metadata": {
      "needs_background": "light"
     },
     "output_type": "display_data"
    }
   ],
   "source": [
    "msno.bar(df)\n",
    "plt.show()"
   ]
  },
  {
   "cell_type": "code",
   "execution_count": 32,
   "id": "b1f11497",
   "metadata": {},
   "outputs": [
    {
     "data": {
      "image/png": "[encoded data removed]",
      "text/plain": [
       "<Figure size 1800x720 with 2 Axes>"
      ]
     },
     "metadata": {
      "needs_background": "light"
     },
     "output_type": "display_data"
    }
   ],
   "source": [
    "msno.matrix(df)\n",
    "plt.show()"
   ]
  },
  {
   "cell_type": "code",
   "execution_count": 19,
   "id": "55b57566",
   "metadata": {},
   "outputs": [
    {
     "name": "stderr",
     "output_type": "stream",
     "text": [
      "C:\\Users\\dell\\anaconda3\\lib\\site-packages\\seaborn\\matrix.py:305: UserWarning: Attempting to set identical left == right == 0 results in singular transformations; automatically expanding.\n",
      "  ax.set(xlim=(0, self.data.shape[1]), ylim=(0, self.data.shape[0]))\n",
      "C:\\Users\\dell\\anaconda3\\lib\\site-packages\\seaborn\\matrix.py:305: UserWarning: Attempting to set identical bottom == top == 0 results in singular transformations; automatically expanding.\n",
      "  ax.set(xlim=(0, self.data.shape[1]), ylim=(0, self.data.shape[0]))\n"
     ]
    },
    {
     "data": {
      "image/png": "[encoded data removed]",
      "text/plain": [
       "<Figure size 1440x864 with 2 Axes>"
      ]
     },
     "metadata": {
      "needs_background": "light"
     },
     "output_type": "display_data"
    }
   ],
   "source": [
    "msno.heatmap(df)\n",
    "plt.show()"
   ]
  },
  {
   "cell_type": "code",
   "execution_count": 33,
   "id": "3d40cf0d",
   "metadata": {},
   "outputs": [
    {
     "data": {
      "text/plain": [
       "210"
      ]
     },
     "execution_count": 33,
     "metadata": {},
     "output_type": "execute_result"
    }
   ],
   "source": [
    "# checking for duplicates\n",
    "df.duplicated().sum()"
   ]
  },
  {
   "cell_type": "code",
   "execution_count": 34,
   "id": "94d121bb",
   "metadata": {},
   "outputs": [
    {
     "ename": "KeyError",
     "evalue": "Index(['subset'], dtype='object')",
     "output_type": "error",
     "traceback": [
      "\u001b[1;31m---------------------------------------------------------------------------\u001b[0m",
      "\u001b[1;31mKeyError\u001b[0m                                  Traceback (most recent call last)",
      "Input \u001b[1;32mIn [34]\u001b[0m, in \u001b[0;36m<cell line: 2>\u001b[1;34m()\u001b[0m\n\u001b[0;32m      1\u001b[0m \u001b[38;5;66;03m# how to remove duplicates\u001b[39;00m\n\u001b[1;32m----> 2\u001b[0m \u001b[43mdf\u001b[49m\u001b[38;5;241;43m.\u001b[39;49m\u001b[43mdrop_duplicates\u001b[49m\u001b[43m(\u001b[49m\u001b[43m[\u001b[49m\u001b[38;5;124;43m'\u001b[39;49m\u001b[38;5;124;43msubset\u001b[39;49m\u001b[38;5;124;43m'\u001b[39;49m\u001b[43m]\u001b[49m\u001b[43m)\u001b[49m\n",
      "File \u001b[1;32m~\\anaconda3\\lib\\site-packages\\pandas\\util\\_decorators.py:311\u001b[0m, in \u001b[0;36mdeprecate_nonkeyword_arguments.<locals>.decorate.<locals>.wrapper\u001b[1;34m(*args, **kwargs)\u001b[0m\n\u001b[0;32m    305\u001b[0m \u001b[38;5;28;01mif\u001b[39;00m \u001b[38;5;28mlen\u001b[39m(args) \u001b[38;5;241m>\u001b[39m num_allow_args:\n\u001b[0;32m    306\u001b[0m     warnings\u001b[38;5;241m.\u001b[39mwarn(\n\u001b[0;32m    307\u001b[0m         msg\u001b[38;5;241m.\u001b[39mformat(arguments\u001b[38;5;241m=\u001b[39marguments),\n\u001b[0;32m    308\u001b[0m         \u001b[38;5;167;01mFutureWarning\u001b[39;00m,\n\u001b[0;32m    309\u001b[0m         stacklevel\u001b[38;5;241m=\u001b[39mstacklevel,\n\u001b[0;32m    310\u001b[0m     )\n\u001b[1;32m--> 311\u001b[0m \u001b[38;5;28;01mreturn\u001b[39;00m func(\u001b[38;5;241m*\u001b[39margs, \u001b[38;5;241m*\u001b[39m\u001b[38;5;241m*\u001b[39mkwargs)\n",
      "File \u001b[1;32m~\\anaconda3\\lib\\site-packages\\pandas\\core\\frame.py:6116\u001b[0m, in \u001b[0;36mDataFrame.drop_duplicates\u001b[1;34m(self, subset, keep, inplace, ignore_index)\u001b[0m\n\u001b[0;32m   6114\u001b[0m inplace \u001b[38;5;241m=\u001b[39m validate_bool_kwarg(inplace, \u001b[38;5;124m\"\u001b[39m\u001b[38;5;124minplace\u001b[39m\u001b[38;5;124m\"\u001b[39m)\n\u001b[0;32m   6115\u001b[0m ignore_index \u001b[38;5;241m=\u001b[39m validate_bool_kwarg(ignore_index, \u001b[38;5;124m\"\u001b[39m\u001b[38;5;124mignore_index\u001b[39m\u001b[38;5;124m\"\u001b[39m)\n\u001b[1;32m-> 6116\u001b[0m duplicated \u001b[38;5;241m=\u001b[39m \u001b[38;5;28;43mself\u001b[39;49m\u001b[38;5;241;43m.\u001b[39;49m\u001b[43mduplicated\u001b[49m\u001b[43m(\u001b[49m\u001b[43msubset\u001b[49m\u001b[43m,\u001b[49m\u001b[43m \u001b[49m\u001b[43mkeep\u001b[49m\u001b[38;5;241;43m=\u001b[39;49m\u001b[43mkeep\u001b[49m\u001b[43m)\u001b[49m\n\u001b[0;32m   6118\u001b[0m result \u001b[38;5;241m=\u001b[39m \u001b[38;5;28mself\u001b[39m[\u001b[38;5;241m-\u001b[39mduplicated]\n\u001b[0;32m   6119\u001b[0m \u001b[38;5;28;01mif\u001b[39;00m ignore_index:\n",
      "File \u001b[1;32m~\\anaconda3\\lib\\site-packages\\pandas\\core\\frame.py:6250\u001b[0m, in \u001b[0;36mDataFrame.duplicated\u001b[1;34m(self, subset, keep)\u001b[0m\n\u001b[0;32m   6248\u001b[0m diff \u001b[38;5;241m=\u001b[39m Index(subset)\u001b[38;5;241m.\u001b[39mdifference(\u001b[38;5;28mself\u001b[39m\u001b[38;5;241m.\u001b[39mcolumns)\n\u001b[0;32m   6249\u001b[0m \u001b[38;5;28;01mif\u001b[39;00m \u001b[38;5;129;01mnot\u001b[39;00m diff\u001b[38;5;241m.\u001b[39mempty:\n\u001b[1;32m-> 6250\u001b[0m     \u001b[38;5;28;01mraise\u001b[39;00m \u001b[38;5;167;01mKeyError\u001b[39;00m(diff)\n\u001b[0;32m   6252\u001b[0m vals \u001b[38;5;241m=\u001b[39m (col\u001b[38;5;241m.\u001b[39mvalues \u001b[38;5;28;01mfor\u001b[39;00m name, col \u001b[38;5;129;01min\u001b[39;00m \u001b[38;5;28mself\u001b[39m\u001b[38;5;241m.\u001b[39mitems() \u001b[38;5;28;01mif\u001b[39;00m name \u001b[38;5;129;01min\u001b[39;00m subset)\n\u001b[0;32m   6253\u001b[0m labels, shape \u001b[38;5;241m=\u001b[39m \u001b[38;5;28mmap\u001b[39m(\u001b[38;5;28mlist\u001b[39m, \u001b[38;5;28mzip\u001b[39m(\u001b[38;5;241m*\u001b[39m\u001b[38;5;28mmap\u001b[39m(f, vals)))\n",
      "\u001b[1;31mKeyError\u001b[0m: Index(['subset'], dtype='object')"
     ]
    }
   ],
   "source": [
    "# how to remove duplicates\n",
    "df.drop_duplicates(['subset'])"
   ]
  },
  {
   "cell_type": "code",
   "execution_count": 35,
   "id": "8190be7d",
   "metadata": {
    "scrolled": true
   },
   "outputs": [
    {
     "name": "stdout",
     "output_type": "stream",
     "text": [
      "<class 'pandas.core.frame.DataFrame'>\n",
      "RangeIndex: 2243 entries, 0 to 2242\n",
      "Data columns (total 11 columns):\n",
      " #   Column                       Non-Null Count  Dtype  \n",
      "---  ------                       --------------  -----  \n",
      " 0   Image Index                  2243 non-null   object \n",
      " 1   Finding Labels               2243 non-null   object \n",
      " 2   Follow-up #                  2243 non-null   int64  \n",
      " 3   Patient ID                   2243 non-null   int64  \n",
      " 4   Patient Age                  2243 non-null   int64  \n",
      " 5   Patient Gender               2243 non-null   object \n",
      " 6   View Position                2243 non-null   object \n",
      " 7   OriginalImage[Width          2243 non-null   int64  \n",
      " 8   Height]                      2243 non-null   int64  \n",
      " 9   OriginalImagePixelSpacing[x  2243 non-null   float64\n",
      " 10  y]                           2243 non-null   float64\n",
      "dtypes: float64(2), int64(5), object(4)\n",
      "memory usage: 192.9+ KB\n"
     ]
    }
   ],
   "source": [
    "df.info()"
   ]
  },
  {
   "cell_type": "code",
   "execution_count": 36,
   "id": "794fea7b",
   "metadata": {},
   "outputs": [
    {
     "data": {
      "text/plain": [
       "array(['Emphysema', 'Atelectasis',\n",
       "       'Atelectasis|Cardiomegaly|Effusion|Infiltration',\n",
       "       'Atelectasis|Cardiomegaly|Effusion|Infiltration|Mass',\n",
       "       'Atelectasis|Cardiomegaly|Effusion|Infiltration|Mass|Pleural_Thickening',\n",
       "       'Atelectasis|Cardiomegaly|Effusion|Infiltration|Mass|Pneumothorax',\n",
       "       'Atelectasis|Cardiomegaly|Effusion|Infiltration|Nodule',\n",
       "       'Atelectasis|Cardiomegaly|Effusion|Infiltration|Pleural_Thickening',\n",
       "       'Atelectasis|Cardiomegaly|Effusion|Infiltration|Pneumonia',\n",
       "       'Atelectasis|Cardiomegaly|Effusion|Infiltration|Pneumothorax',\n",
       "       'Atelectasis|Cardiomegaly|Effusion|Mass',\n",
       "       'Atelectasis|Cardiomegaly|Effusion|Mass|Nodule',\n",
       "       'Atelectasis|Cardiomegaly|Effusion|Mass|Pleural_Thickening',\n",
       "       'Atelectasis|Cardiomegaly|Effusion|Nodule',\n",
       "       'Atelectasis|Cardiomegaly|Effusion|Nodule|Pleural_Thickening',\n",
       "       'Atelectasis|Cardiomegaly|Effusion|Pleural_Thickening',\n",
       "       'Atelectasis|Cardiomegaly|Effusion|Pneumonia',\n",
       "       'Atelectasis|Cardiomegaly|Effusion|Pneumothorax',\n",
       "       'Atelectasis|Cardiomegaly|Emphysema|Mass|Pneumothorax',\n",
       "       'Atelectasis|Cardiomegaly|Fibrosis',\n",
       "       'Atelectasis|Cardiomegaly|Fibrosis|Mass|Pneumothorax',\n",
       "       'Atelectasis|Cardiomegaly|Fibrosis|Pleural_Thickening',\n",
       "       'Atelectasis|Cardiomegaly|Infiltration',\n",
       "       'Atelectasis|Consolidation|Effusion|Infiltration',\n",
       "       'Atelectasis|Consolidation|Effusion|Infiltration|Mass',\n",
       "       'Atelectasis|Consolidation|Effusion|Infiltration|Mass|Nodule',\n",
       "       'Atelectasis|Consolidation|Effusion|Infiltration|Mass|Nodule|Pleural_Thickening',\n",
       "       'Atelectasis|Consolidation|Effusion|Infiltration|Mass|Nodule|Pneumothorax',\n",
       "       'Atelectasis|Consolidation|Effusion|Infiltration|Mass|Pleural_Thickening',\n",
       "       'Atelectasis|Consolidation|Effusion|Infiltration|Mass|Pneumothorax',\n",
       "       'Atelectasis|Consolidation|Effusion|Infiltration|Nodule',\n",
       "       'Atelectasis|Consolidation|Effusion|Infiltration|Nodule|Pleural_Thickening',\n",
       "       'Atelectasis|Consolidation|Effusion|Infiltration|Pleural_Thickening',\n",
       "       'Atelectasis|Consolidation|Effusion|Infiltration|Pleural_Thickening|Pneumothorax',\n",
       "       'Atelectasis|Consolidation|Effusion|Infiltration|Pneumonia',\n",
       "       'Atelectasis|Consolidation|Effusion|Infiltration|Pneumothorax',\n",
       "       'Atelectasis|Consolidation|Effusion|Mass',\n",
       "       'Atelectasis|Edema|Effusion|Infiltration',\n",
       "       'Atelectasis|Edema|Effusion|Infiltration|Mass',\n",
       "       'Atelectasis|Edema|Effusion|Infiltration|Nodule|Pleural_Thickening',\n",
       "       'Atelectasis|Edema|Effusion|Infiltration|Pleural_Thickening',\n",
       "       'Atelectasis|Edema|Effusion|Infiltration|Pneumonia',\n",
       "       'Atelectasis|Edema|Effusion|Mass|Nodule',\n",
       "       'Atelectasis|Edema|Effusion|Mass|Pneumothorax',\n",
       "       'Atelectasis|Edema|Effusion|Nodule',\n",
       "       'Atelectasis|Edema|Effusion|Pneumonia',\n",
       "       'Atelectasis|Edema|Effusion|Pneumonia|Pneumothorax',\n",
       "       'Atelectasis|Edema|Emphysema',\n",
       "       'Atelectasis|Edema|Emphysema|Nodule',\n",
       "       'Atelectasis|Edema|Emphysema|Pneumothorax',\n",
       "       'Atelectasis|Edema|Infiltration',\n",
       "       'Atelectasis|Edema|Infiltration|Mass',\n",
       "       'Atelectasis|Edema|Infiltration|Nodule',\n",
       "       'Atelectasis|Edema|Infiltration|Nodule|Pleural_Thickening',\n",
       "       'Atelectasis|Edema|Infiltration|Pleural_Thickening',\n",
       "       'Atelectasis|Edema|Infiltration|Pneumonia',\n",
       "       'Atelectasis|Edema|Mass', 'Consolidation', 'Consolidation|Edema',\n",
       "       'Consolidation|Edema|Effusion',\n",
       "       'Consolidation|Edema|Effusion|Infiltration',\n",
       "       'Consolidation|Edema|Effusion|Infiltration|Mass',\n",
       "       'Consolidation|Edema|Effusion|Mass',\n",
       "       'Consolidation|Edema|Effusion|Mass|Nodule',\n",
       "       'Consolidation|Edema|Effusion|Pneumonia',\n",
       "       'Consolidation|Edema|Effusion|Pneumothorax',\n",
       "       'Consolidation|Edema|Infiltration', 'Effusion',\n",
       "       'Infiltration|Mass', 'Pneumothorax', 'Pneumothorax|Atelectasis',\n",
       "       'Pneumothorax|Infiltration', 'Pneumothorax|Mass',\n",
       "       'Pneumothorax|Pneumonia', 'Pleural_Thickening',\n",
       "       'Atelectasis|Cardiomegaly|Effusion|Fibrosis',\n",
       "       'Atelectasis|Cardiomegaly|Effusion|Fibrosis|Infiltration',\n",
       "       'Atelectasis|Cardiomegaly|Effusion|Fibrosis|Nodule',\n",
       "       'Atelectasis|Cardiomegaly|Effusion|Fibrosis|Pleural_Thickening',\n",
       "       'Atelectasis|Emphysema|Infiltration|Pneumothorax',\n",
       "       'Atelectasis|Emphysema|Infiltration|Pneumothorax|Pneumonia',\n",
       "       'Atelectasis|Emphysema|Mass',\n",
       "       'Atelectasis|Emphysema|Mass|Pleural_Thickening|Pneumothorax',\n",
       "       'Atelectasis|Emphysema|Mass|Pneumothorax',\n",
       "       'Atelectasis|Emphysema|Nodule',\n",
       "       'Atelectasis|Emphysema|Nodule|Pleural_Thickening',\n",
       "       'Atelectasis|Emphysema|Nodule|Pneumothorax',\n",
       "       'Atelectasis|Emphysema|Pleural_Thickening',\n",
       "       'Atelectasis|Emphysema|Pleural_Thickening|Pneumothorax',\n",
       "       'Atelectasis|Emphysema|Pneumonia',\n",
       "       'Atelectasis|Emphysema|Pneumonia|Pneumothorax',\n",
       "       'Atelectasis|Emphysema|Pneumothorax', 'Infiltration', 'Nodule'],\n",
       "      dtype=object)"
      ]
     },
     "execution_count": 36,
     "metadata": {},
     "output_type": "execute_result"
    }
   ],
   "source": [
    "df['Finding Labels'].unique()"
   ]
  },
  {
   "cell_type": "code",
   "execution_count": null,
   "id": "c83bb65c",
   "metadata": {},
   "outputs": [],
   "source": []
  }
 ],
 "metadata": {
  "kernelspec": {
   "display_name": "Python 3 (ipykernel)",
   "language": "python",
   "name": "python3"
  },
  "language_info": {
   "codemirror_mode": {
    "name": "ipython",
    "version": 3
   },
   "file_extension": ".py",
   "mimetype": "text/x-python",
   "name": "python",
   "nbconvert_exporter": "python",
   "pygments_lexer": "ipython3",
   "version": "3.9.12"
  }
 },
 "nbformat": 4,
 "nbformat_minor": 5
}
