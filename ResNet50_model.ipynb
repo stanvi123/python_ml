{
 "cells": [
  {
   "cell_type": "code",
   "execution_count": 2,
   "id": "4626675d",
   "metadata": {},
   "outputs": [],
   "source": [
    "import numpy as np\n",
    "import tensorflow as tf\n",
    "from tensorflow import keras\n",
    "from tensorflow.keras.preprocessing.image import ImageDataGenerator\n",
    "from tensorflow.keras.applications.resnet50 import ResNet50\n",
    "from tensorflow.keras.layers import Dense, Flatten\n",
    "from tensorflow.keras.models import Model"
   ]
  },
  {
   "cell_type": "code",
   "execution_count": 3,
   "id": "9217a2da",
   "metadata": {},
   "outputs": [],
   "source": [
    "# Define constants\n",
    "IMG_SIZE = (224, 224)\n",
    "BATCH_SIZE = 32\n",
    "NUM_EPOCHS = 10"
   ]
  },
  {
   "cell_type": "code",
   "execution_count": 4,
   "id": "be63ae04",
   "metadata": {},
   "outputs": [
    {
     "name": "stdout",
     "output_type": "stream",
     "text": [
      "Found 4038 images belonging to 2 classes.\n",
      "Found 1010 images belonging to 2 classes.\n"
     ]
    }
   ],
   "source": [
    "# Load data and perform data augmentation\n",
    "train_datagen = ImageDataGenerator(\n",
    "    rescale=1./255,\n",
    "    shear_range=0.2,\n",
    "    zoom_range=0.2,\n",
    "    horizontal_flip=True)\n",
    "train_generator = train_datagen.flow_from_directory(\n",
    "    'B:\\\\project_final\\\\Training',\n",
    "    target_size=IMG_SIZE,\n",
    "    batch_size=BATCH_SIZE,\n",
    "    class_mode='binary')\n",
    "\n",
    "test_datagen = ImageDataGenerator(rescale=1./255)\n",
    "test_generator = test_datagen.flow_from_directory(\n",
    "    'B:\\\\project_final\\\\Testing',\n",
    "    target_size=IMG_SIZE,\n",
    "    batch_size=BATCH_SIZE,\n",
    "    class_mode='binary')"
   ]
  },
  {
   "cell_type": "code",
   "execution_count": 5,
   "id": "61718846",
   "metadata": {},
   "outputs": [],
   "source": [
    "# Load pre-trained ResNet50 model and add custom output layers\n",
    "resnet = ResNet50(include_top=False, weights='imagenet', input_shape=IMG_SIZE+(3,))\n",
    "for layer in resnet.layers:\n",
    "    layer.trainable = False\n",
    "x = Flatten()(resnet.output)\n",
    "x = Dense(256, activation='relu')(x)\n",
    "output = Dense(1, activation='sigmoid')(x)\n",
    "model = Model(inputs=resnet.input, outputs=output)"
   ]
  },
  {
   "cell_type": "code",
   "execution_count": 6,
   "id": "ec24a306",
   "metadata": {},
   "outputs": [],
   "source": [
    "# Compile the model\n",
    "model.compile(loss='binary_crossentropy', optimizer='adam', metrics=['accuracy'])\n"
   ]
  },
  {
   "cell_type": "code",
   "execution_count": 7,
   "id": "fad3e35f",
   "metadata": {},
   "outputs": [
    {
     "name": "stdout",
     "output_type": "stream",
     "text": [
      "Epoch 1/10\n",
      "127/127 [==============================] - 1794s 14s/step - loss: 1.0407 - accuracy: 0.7573 - val_loss: 0.6646 - val_accuracy: 0.7832\n",
      "Epoch 2/10\n",
      "127/127 [==============================] - 1540s 12s/step - loss: 0.6505 - accuracy: 0.7836 - val_loss: 0.6370 - val_accuracy: 0.7832\n",
      "Epoch 3/10\n",
      "127/127 [==============================] - 1470s 12s/step - loss: 0.6251 - accuracy: 0.7836 - val_loss: 0.6139 - val_accuracy: 0.7832\n",
      "Epoch 4/10\n",
      "127/127 [==============================] - 1519s 12s/step - loss: 0.6042 - accuracy: 0.7836 - val_loss: 0.5950 - val_accuracy: 0.7832\n",
      "Epoch 5/10\n",
      "127/127 [==============================] - 1620s 13s/step - loss: 0.5869 - accuracy: 0.7836 - val_loss: 0.5794 - val_accuracy: 0.7832\n",
      "Epoch 6/10\n",
      "127/127 [==============================] - 1503s 12s/step - loss: 0.5728 - accuracy: 0.7836 - val_loss: 0.5669 - val_accuracy: 0.7832\n",
      "Epoch 7/10\n",
      "127/127 [==============================] - 887s 7s/step - loss: 0.5615 - accuracy: 0.7836 - val_loss: 0.5568 - val_accuracy: 0.7832\n",
      "Epoch 8/10\n",
      "127/127 [==============================] - 1215s 10s/step - loss: 0.5525 - accuracy: 0.7836 - val_loss: 0.5487 - val_accuracy: 0.7832\n",
      "Epoch 9/10\n",
      "127/127 [==============================] - 1507s 12s/step - loss: 0.5452 - accuracy: 0.7836 - val_loss: 0.5425 - val_accuracy: 0.7832\n",
      "Epoch 10/10\n",
      "127/127 [==============================] - 1723s 14s/step - loss: 0.5395 - accuracy: 0.7836 - val_loss: 0.5374 - val_accuracy: 0.7832\n"
     ]
    },
    {
     "data": {
      "text/plain": [
       "<keras.callbacks.History at 0x2fd4b9e2c70>"
      ]
     },
     "execution_count": 7,
     "metadata": {},
     "output_type": "execute_result"
    }
   ],
   "source": [
    "# Train the model\n",
    "model.fit(train_generator, epochs=NUM_EPOCHS, validation_data=test_generator)\n"
   ]
  },
  {
   "cell_type": "code",
   "execution_count": 8,
   "id": "9053f98a",
   "metadata": {},
   "outputs": [
    {
     "name": "stdout",
     "output_type": "stream",
     "text": [
      "32/32 [==============================] - 283s 9s/step - loss: 0.5374 - accuracy: 0.7832\n",
      "Test accuracy: 0.7831683158874512\n"
     ]
    }
   ],
   "source": [
    "# Evaluate the model\n",
    "test_loss, test_acc = model.evaluate(test_generator)\n",
    "print('Test accuracy:', test_acc)"
   ]
  },
  {
   "cell_type": "code",
   "execution_count": null,
   "id": "a1b9b309",
   "metadata": {},
   "outputs": [],
   "source": []
  }
 ],
 "metadata": {
  "kernelspec": {
   "display_name": "Python 3 (ipykernel)",
   "language": "python",
   "name": "python3"
  },
  "language_info": {
   "codemirror_mode": {
    "name": "ipython",
    "version": 3
   },
   "file_extension": ".py",
   "mimetype": "text/x-python",
   "name": "python",
   "nbconvert_exporter": "python",
   "pygments_lexer": "ipython3",
   "version": "3.9.12"
  }
 },
 "nbformat": 4,
 "nbformat_minor": 5
}
